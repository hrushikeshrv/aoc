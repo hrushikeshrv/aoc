{
 "cells": [
  {
   "cell_type": "markdown",
   "metadata": {},
   "source": [
    "# Day 1"
   ]
  },
  {
   "cell_type": "markdown",
   "metadata": {},
   "source": [
    "### Part 1"
   ]
  },
  {
   "cell_type": "code",
   "execution_count": 12,
   "metadata": {},
   "outputs": [],
   "source": [
    "with open('input-01.txt', 'r') as file:\n",
    "    lines = list(map(lambda x: int(x), file.readlines()))"
   ]
  },
  {
   "cell_type": "code",
   "execution_count": 14,
   "metadata": {},
   "outputs": [],
   "source": [
    "def solve_1(measurements):\n",
    "    increases = 0\n",
    "    for i in range(1, len(measurements)):\n",
    "        if measurements[i] > measurements[i-1]:\n",
    "            increases += 1\n",
    "    return increases"
   ]
  },
  {
   "cell_type": "code",
   "execution_count": 15,
   "metadata": {},
   "outputs": [
    {
     "data": {
      "text/plain": [
       "1692"
      ]
     },
     "execution_count": 15,
     "metadata": {},
     "output_type": "execute_result"
    }
   ],
   "source": [
    "solve_1(lines)"
   ]
  },
  {
   "cell_type": "markdown",
   "metadata": {},
   "source": [
    "### Part 2"
   ]
  },
  {
   "cell_type": "code",
   "execution_count": 31,
   "metadata": {},
   "outputs": [],
   "source": [
    "def solve_2(measurements):\n",
    "    measurements_2 = []\n",
    "    for i in range(len(measurements)-2):\n",
    "        measurements_2.append(sum(measurements[i:i+3]))\n",
    "    return solve_1(measurements_2)"
   ]
  },
  {
   "cell_type": "code",
   "execution_count": 32,
   "metadata": {},
   "outputs": [
    {
     "data": {
      "text/plain": [
       "1724"
      ]
     },
     "execution_count": 32,
     "metadata": {},
     "output_type": "execute_result"
    }
   ],
   "source": [
    "solve_2(lines)"
   ]
  },
  {
   "cell_type": "code",
   "execution_count": null,
   "metadata": {},
   "outputs": [],
   "source": []
  },
  {
   "cell_type": "code",
   "execution_count": 1,
   "metadata": {},
   "outputs": [],
   "source": [
    "import matplotlib.pyplot as plt"
   ]
  },
  {
   "cell_type": "code",
   "execution_count": 2,
   "metadata": {},
   "outputs": [],
   "source": [
    "with open('input-07.txt', 'r') as file:\n",
    "    pos = sorted(list(map(lambda x: int(x), file.readline().split(','))))"
   ]
  },
  {
   "cell_type": "code",
   "execution_count": 3,
   "metadata": {},
   "outputs": [],
   "source": [
    "def fuel_cost(x1, x2):\n",
    "    d = abs(x1 - x2)\n",
    "    return d * (d+1) / 2"
   ]
  },
  {
   "cell_type": "code",
   "execution_count": 14,
   "metadata": {},
   "outputs": [],
   "source": [
    "def solve(positions):\n",
    "    fuel_costs = []\n",
    "    for i in range(max(positions)):\n",
    "        fuel = 0\n",
    "        for p in positions:\n",
    "            fuel += fuel_cost(p, i)\n",
    "        fuel_costs.append(fuel)\n",
    "#     plot.plot(fuel_costs)\n",
    "#     plt.plot(fuel_costs[400:600])\n",
    "    return fuel_costs.index(min(fuel_costs))"
   ]
  },
  {
   "cell_type": "code",
   "execution_count": 15,
   "metadata": {},
   "outputs": [
    {
     "data": {
      "text/plain": [
       "479"
      ]
     },
     "execution_count": 15,
     "metadata": {},
     "output_type": "execute_result"
    }
   ],
   "source": [
    "solve(pos)"
   ]
  },
  {
   "cell_type": "code",
   "execution_count": 16,
   "metadata": {},
   "outputs": [],
   "source": [
    "def weighted_average(numbers):\n",
    "    num_dict = {}\n",
    "    for n in numbers:\n",
    "        num_dict[n] = num_dict.get(n, 0) + 1\n",
    "    weighted_sum = 0\n",
    "    for n in num_dict:\n",
    "        weighted_sum += n * num_dict[n]\n",
    "    return weighted_sum/len(numbers)"
   ]
  },
  {
   "cell_type": "code",
   "execution_count": 17,
   "metadata": {},
   "outputs": [
    {
     "data": {
      "text/plain": [
       "479.59"
      ]
     },
     "execution_count": 17,
     "metadata": {},
     "output_type": "execute_result"
    }
   ],
   "source": [
    "weighted_average(pos)"
   ]
  },
  {
   "cell_type": "code",
   "execution_count": 18,
   "metadata": {},
   "outputs": [
    {
     "data": {
      "text/plain": [
       "1000"
      ]
     },
     "execution_count": 18,
     "metadata": {},
     "output_type": "execute_result"
    }
   ],
   "source": [
    "len(pos)"
   ]
  },
  {
   "cell_type": "markdown",
   "metadata": {},
   "source": [
    "# Day 7 Rough"
   ]
  },
  {
   "cell_type": "code",
   "execution_count": 1,
   "metadata": {},
   "outputs": [],
   "source": [
    "with open('input-08.txt', 'r') as file:\n",
    "    signals = file.readlines()"
   ]
  },
  {
   "cell_type": "code",
   "execution_count": 3,
   "metadata": {},
   "outputs": [],
   "source": [
    "segment_digit_map = {\n",
    "    ('a', 'b', 'c', 'e', 'f', 'g'): 0,\n",
    "    ('c', 'f'): 1,\n",
    "    ('a', 'c', 'd', 'e', 'g'): 2,\n",
    "    ('a', 'c', 'd', 'f', 'g'): 3,\n",
    "    ('b', 'c', 'd', 'f'): 4,\n",
    "    ('a', 'b', 'd', 'f', 'g'): 5,\n",
    "    ('a', 'b', 'd', 'e', 'f', 'g'): 6,\n",
    "    ('a', 'c', 'f'): 7,\n",
    "    ('a', 'b', 'c', 'd', 'e', 'f', 'g'): 8,\n",
    "    ('a', 'b', 'c', 'd', 'f', 'g'): 9,\n",
    "}"
   ]
  },
  {
   "cell_type": "code",
   "execution_count": 117,
   "metadata": {},
   "outputs": [],
   "source": [
    "def get_mapping_from_digits(digits):\n",
    "    digits = sorted(digits.split(), key=lambda x: len(x))\n",
    "    # The segment x can be represented by the following\n",
    "    candidates = {x: set() for x in 'abcdefg'}\n",
    "    for d in digits:\n",
    "        if len(d) == 2:\n",
    "            candidates['c'] = set(d)\n",
    "            candidates['f'] = set(d)\n",
    "        elif len(d) == 3:\n",
    "            candidates['a'] = set(d) - candidates['c']\n",
    "        elif len(d) == 4:\n",
    "            candidates['d'] = set(d) - candidates['c'] - candidates['a']\n",
    "            candidates['b'] = set(d) - candidates['c'] - candidates['a']\n",
    "        elif len(d) == 5:\n",
    "            diff_set = set(d) - candidates['a'] - candidates['c']\n",
    "            if len(diff_set) > 0:\n",
    "                candidates['e'].update(diff_set)\n",
    "                candidates['g'].update(diff_set)\n",
    "    \n",
    "    _ = set()\n",
    "    _.update(set(digits[-1]) - set(digits[-2]))\n",
    "    _.update(set(digits[-1]) - set(digits[-3]))\n",
    "    _.update(set(digits[-1]) - set(digits[-4]))\n",
    "\n",
    "    candidates['c'] = candidates['c'].intersection(_)\n",
    "    candidates['d'] = candidates['d'].intersection(_)\n",
    "    candidates['e'] = candidates['e'].intersection(_)\n",
    "    \n",
    "    while True:\n",
    "        dirty = False\n",
    "        for char in 'abcdefg':\n",
    "            if len(candidates[char]) == 1:\n",
    "                for key in candidates:\n",
    "                    if key == char:\n",
    "                        continue\n",
    "                    else:\n",
    "                        candidates[key] = candidates[key] - candidates[char]\n",
    "            else:\n",
    "                dirty = True\n",
    "        if not dirty:\n",
    "            break\n",
    "    \n",
    "    # x can represent the following segments\n",
    "    possibilities = {x: set() for x in 'abcdefg'}\n",
    "    for key in candidates:\n",
    "        for letter in candidates[key]:\n",
    "            possibilities[letter].add(key)\n",
    "    return possibilities"
   ]
  },
  {
   "cell_type": "code",
   "execution_count": 104,
   "metadata": {},
   "outputs": [
    {
     "name": "stdout",
     "output_type": "stream",
     "text": [
      "['gd', 'cdg', 'bgda', 'dacbe', 'cfega', 'adecg', 'febacd', 'degcba', 'edcfbg', 'begcafd']\n",
      "Set candidates of c and f to {'d', 'g'}\n"
     ]
    }
   ],
   "source": [
    "p = get_mapping_from_digits('bgda cdg dacbe cfega begcafd febacd degcba adecg edcfbg gd')"
   ]
  },
  {
   "cell_type": "code",
   "execution_count": 105,
   "metadata": {},
   "outputs": [
    {
     "name": "stdout",
     "output_type": "stream",
     "text": [
      "{'a': {'d'}, 'b': {'b'}, 'c': {'a'}, 'd': {'f'}, 'e': {'g'}, 'f': {'e'}, 'g': {'c'}}\n"
     ]
    }
   ],
   "source": [
    "print(p)"
   ]
  },
  {
   "cell_type": "code",
   "execution_count": 110,
   "metadata": {},
   "outputs": [
    {
     "name": "stdout",
     "output_type": "stream",
     "text": [
      "febacd {'a': {'d'}, 'b': {'b'}, 'c': {'a'}, 'd': {'f'}, 'e': {'g'}, 'f': {'e'}, 'g': {'c'}}\n"
     ]
    },
    {
     "data": {
      "text/plain": [
       "6"
      ]
     },
     "execution_count": 110,
     "metadata": {},
     "output_type": "execute_result"
    }
   ],
   "source": [
    "get_number_from_segments('febacd', p)"
   ]
  },
  {
   "cell_type": "code",
   "execution_count": null,
   "metadata": {},
   "outputs": [],
   "source": []
  },
  {
   "cell_type": "code",
   "execution_count": 112,
   "metadata": {},
   "outputs": [],
   "source": [
    "def get_digit_from_segments(segments, mapping):\n",
    "    lit_segment_set = set()\n",
    "    for s in segments:\n",
    "        lit_segment_set.update(mapping[s])\n",
    "    return str(segment_digit_map[tuple(sorted(tuple(lit_segment_set)))])"
   ]
  },
  {
   "cell_type": "code",
   "execution_count": 113,
   "metadata": {},
   "outputs": [],
   "source": [
    "def get_number_from_segments(segments, mapping):\n",
    "    n = ''\n",
    "    for s in segments.split():\n",
    "        n += get_digit_from_segments(s, mapping)\n",
    "    return int(n)"
   ]
  },
  {
   "cell_type": "code",
   "execution_count": 114,
   "metadata": {},
   "outputs": [],
   "source": [
    "def solve_2(numbers):\n",
    "    total = 0\n",
    "    for i in numbers:\n",
    "        _ = i.split(' | ')\n",
    "        digits = _[0]\n",
    "        number = _[1]\n",
    "        mapping = get_mapping_from_digits(digits)\n",
    "        total += get_number_from_segments(number, mapping)\n",
    "    return total"
   ]
  },
  {
   "cell_type": "code",
   "execution_count": 116,
   "metadata": {},
   "outputs": [
    {
     "name": "stdout",
     "output_type": "stream",
     "text": [
      "Set candidates of c and f to {'d', 'a'}\n",
      "Set candidates of c and f to {'c', 'g'}\n",
      "Set candidates of c and f to {'f', 'a'}\n",
      "Set candidates of c and f to {'c', 'g'}\n",
      "Set candidates of c and f to {'d', 'g'}\n",
      "Set candidates of c and f to {'b', 'c'}\n",
      "Set candidates of c and f to {'c', 'd'}\n",
      "Set candidates of c and f to {'b', 'f'}\n",
      "Set candidates of c and f to {'e', 'b'}\n",
      "Set candidates of c and f to {'d', 'g'}\n",
      "Set candidates of c and f to {'f', 'a'}\n",
      "Set candidates of c and f to {'b', 'c'}\n",
      "Set candidates of c and f to {'f', 'g'}\n",
      "Set candidates of c and f to {'b', 'g'}\n",
      "Set candidates of c and f to {'b', 'g'}\n",
      "Set candidates of c and f to {'a', 'g'}\n",
      "Set candidates of c and f to {'f', 'g'}\n",
      "Set candidates of c and f to {'c', 'a'}\n",
      "Set candidates of c and f to {'e', 'g'}\n",
      "Set candidates of c and f to {'d', 'g'}\n",
      "Set candidates of c and f to {'b', 'd'}\n",
      "Set candidates of c and f to {'f', 'a'}\n",
      "Set candidates of c and f to {'a', 'g'}\n",
      "Set candidates of c and f to {'d', 'f'}\n",
      "Set candidates of c and f to {'e', 'g'}\n",
      "Set candidates of c and f to {'c', 'a'}\n",
      "Set candidates of c and f to {'f', 'a'}\n",
      "Set candidates of c and f to {'e', 'b'}\n",
      "Set candidates of c and f to {'d', 'a'}\n",
      "Set candidates of c and f to {'e', 'f'}\n",
      "Set candidates of c and f to {'b', 'a'}\n",
      "Set candidates of c and f to {'f', 'a'}\n",
      "Set candidates of c and f to {'a', 'g'}\n",
      "Set candidates of c and f to {'b', 'g'}\n",
      "Set candidates of c and f to {'d', 'g'}\n",
      "Set candidates of c and f to {'b', 'c'}\n",
      "Set candidates of c and f to {'c', 'f'}\n",
      "Set candidates of c and f to {'b', 'c'}\n",
      "Set candidates of c and f to {'c', 'g'}\n",
      "Set candidates of c and f to {'c', 'd'}\n",
      "Set candidates of c and f to {'c', 'f'}\n",
      "Set candidates of c and f to {'e', 'b'}\n",
      "Set candidates of c and f to {'d', 'a'}\n",
      "Set candidates of c and f to {'e', 'd'}\n",
      "Set candidates of c and f to {'b', 'd'}\n",
      "Set candidates of c and f to {'d', 'g'}\n",
      "Set candidates of c and f to {'d', 'f'}\n",
      "Set candidates of c and f to {'c', 'g'}\n",
      "Set candidates of c and f to {'e', 'c'}\n",
      "Set candidates of c and f to {'e', 'a'}\n",
      "Set candidates of c and f to {'e', 'c'}\n",
      "Set candidates of c and f to {'b', 'g'}\n",
      "Set candidates of c and f to {'b', 'c'}\n",
      "Set candidates of c and f to {'e', 'd'}\n",
      "Set candidates of c and f to {'d', 'g'}\n",
      "Set candidates of c and f to {'d', 'a'}\n",
      "Set candidates of c and f to {'e', 'c'}\n",
      "Set candidates of c and f to {'a', 'g'}\n",
      "Set candidates of c and f to {'d', 'f'}\n",
      "Set candidates of c and f to {'b', 'c'}\n",
      "Set candidates of c and f to {'c', 'g'}\n",
      "Set candidates of c and f to {'b', 'g'}\n",
      "Set candidates of c and f to {'a', 'g'}\n",
      "Set candidates of c and f to {'d', 'f'}\n",
      "Set candidates of c and f to {'a', 'g'}\n",
      "Set candidates of c and f to {'f', 'a'}\n",
      "Set candidates of c and f to {'e', 'b'}\n",
      "Set candidates of c and f to {'f', 'g'}\n",
      "Set candidates of c and f to {'f', 'a'}\n",
      "Set candidates of c and f to {'e', 'c'}\n",
      "Set candidates of c and f to {'b', 'c'}\n",
      "Set candidates of c and f to {'e', 'b'}\n",
      "Set candidates of c and f to {'b', 'd'}\n",
      "Set candidates of c and f to {'d', 'f'}\n",
      "Set candidates of c and f to {'a', 'g'}\n",
      "Set candidates of c and f to {'b', 'f'}\n",
      "Set candidates of c and f to {'b', 'd'}\n",
      "Set candidates of c and f to {'d', 'f'}\n",
      "Set candidates of c and f to {'a', 'g'}\n",
      "Set candidates of c and f to {'c', 'd'}\n",
      "Set candidates of c and f to {'d', 'g'}\n",
      "Set candidates of c and f to {'a', 'g'}\n",
      "Set candidates of c and f to {'d', 'a'}\n",
      "Set candidates of c and f to {'e', 'a'}\n",
      "Set candidates of c and f to {'c', 'g'}\n",
      "Set candidates of c and f to {'f', 'g'}\n",
      "Set candidates of c and f to {'e', 'd'}\n",
      "Set candidates of c and f to {'f', 'g'}\n",
      "Set candidates of c and f to {'e', 'c'}\n",
      "Set candidates of c and f to {'f', 'a'}\n",
      "Set candidates of c and f to {'e', 'c'}\n",
      "Set candidates of c and f to {'e', 'd'}\n",
      "Set candidates of c and f to {'f', 'a'}\n",
      "Set candidates of c and f to {'c', 'g'}\n",
      "Set candidates of c and f to {'b', 'd'}\n",
      "Set candidates of c and f to {'c', 'g'}\n",
      "Set candidates of c and f to {'c', 'd'}\n",
      "Set candidates of c and f to {'c', 'd'}\n",
      "Set candidates of c and f to {'c', 'd'}\n",
      "Set candidates of c and f to {'c', 'f'}\n",
      "Set candidates of c and f to {'e', 'c'}\n",
      "Set candidates of c and f to {'d', 'g'}\n",
      "Set candidates of c and f to {'b', 'a'}\n",
      "Set candidates of c and f to {'c', 'f'}\n",
      "Set candidates of c and f to {'b', 'a'}\n",
      "Set candidates of c and f to {'b', 'c'}\n",
      "Set candidates of c and f to {'f', 'a'}\n",
      "Set candidates of c and f to {'b', 'a'}\n",
      "Set candidates of c and f to {'b', 'd'}\n",
      "Set candidates of c and f to {'e', 'c'}\n",
      "Set candidates of c and f to {'b', 'g'}\n",
      "Set candidates of c and f to {'e', 'f'}\n",
      "Set candidates of c and f to {'b', 'd'}\n",
      "Set candidates of c and f to {'d', 'a'}\n",
      "Set candidates of c and f to {'c', 'f'}\n",
      "Set candidates of c and f to {'c', 'f'}\n",
      "Set candidates of c and f to {'c', 'a'}\n",
      "Set candidates of c and f to {'d', 'g'}\n",
      "Set candidates of c and f to {'e', 'c'}\n",
      "Set candidates of c and f to {'e', 'b'}\n",
      "Set candidates of c and f to {'f', 'g'}\n",
      "Set candidates of c and f to {'c', 'f'}\n",
      "Set candidates of c and f to {'b', 'g'}\n",
      "Set candidates of c and f to {'e', 'f'}\n",
      "Set candidates of c and f to {'c', 'a'}\n",
      "Set candidates of c and f to {'d', 'a'}\n",
      "Set candidates of c and f to {'d', 'a'}\n",
      "Set candidates of c and f to {'b', 'f'}\n",
      "Set candidates of c and f to {'e', 'a'}\n",
      "Set candidates of c and f to {'d', 'a'}\n",
      "Set candidates of c and f to {'c', 'a'}\n",
      "Set candidates of c and f to {'d', 'f'}\n",
      "Set candidates of c and f to {'e', 'c'}\n",
      "Set candidates of c and f to {'d', 'f'}\n",
      "Set candidates of c and f to {'b', 'g'}\n",
      "Set candidates of c and f to {'e', 'a'}\n",
      "Set candidates of c and f to {'e', 'b'}\n",
      "Set candidates of c and f to {'c', 'g'}\n",
      "Set candidates of c and f to {'e', 'b'}\n",
      "Set candidates of c and f to {'b', 'f'}\n",
      "Set candidates of c and f to {'c', 'g'}\n",
      "Set candidates of c and f to {'c', 'a'}\n",
      "Set candidates of c and f to {'e', 'g'}\n",
      "Set candidates of c and f to {'e', 'a'}\n",
      "Set candidates of c and f to {'b', 'a'}\n",
      "Set candidates of c and f to {'d', 'a'}\n",
      "Set candidates of c and f to {'e', 'f'}\n",
      "Set candidates of c and f to {'b', 'c'}\n",
      "Set candidates of c and f to {'b', 'f'}\n",
      "Set candidates of c and f to {'e', 'g'}\n",
      "Set candidates of c and f to {'e', 'b'}\n",
      "Set candidates of c and f to {'e', 'c'}\n",
      "Set candidates of c and f to {'c', 'd'}\n",
      "Set candidates of c and f to {'a', 'g'}\n",
      "Set candidates of c and f to {'e', 'a'}\n",
      "Set candidates of c and f to {'c', 'a'}\n",
      "Set candidates of c and f to {'c', 'f'}\n",
      "Set candidates of c and f to {'d', 'f'}\n",
      "Set candidates of c and f to {'f', 'a'}\n",
      "Set candidates of c and f to {'e', 'b'}\n",
      "Set candidates of c and f to {'d', 'f'}\n",
      "Set candidates of c and f to {'d', 'g'}\n",
      "Set candidates of c and f to {'b', 'c'}\n",
      "Set candidates of c and f to {'b', 'c'}\n",
      "Set candidates of c and f to {'e', 'g'}\n",
      "Set candidates of c and f to {'b', 'c'}\n",
      "Set candidates of c and f to {'b', 'g'}\n",
      "Set candidates of c and f to {'c', 'd'}\n",
      "Set candidates of c and f to {'e', 'b'}\n",
      "Set candidates of c and f to {'c', 'g'}\n",
      "Set candidates of c and f to {'e', 'd'}\n",
      "Set candidates of c and f to {'c', 'g'}\n",
      "Set candidates of c and f to {'e', 'd'}\n",
      "Set candidates of c and f to {'e', 'c'}\n",
      "Set candidates of c and f to {'b', 'd'}\n",
      "Set candidates of c and f to {'b', 'g'}\n",
      "Set candidates of c and f to {'c', 'a'}\n",
      "Set candidates of c and f to {'e', 'f'}\n",
      "Set candidates of c and f to {'f', 'g'}\n",
      "Set candidates of c and f to {'c', 'd'}\n",
      "Set candidates of c and f to {'c', 'f'}\n",
      "Set candidates of c and f to {'d', 'g'}\n",
      "Set candidates of c and f to {'b', 'g'}\n",
      "Set candidates of c and f to {'e', 'a'}\n",
      "Set candidates of c and f to {'b', 'd'}\n",
      "Set candidates of c and f to {'f', 'a'}\n",
      "Set candidates of c and f to {'d', 'a'}\n",
      "Set candidates of c and f to {'c', 'g'}\n",
      "Set candidates of c and f to {'d', 'a'}\n",
      "Set candidates of c and f to {'b', 'd'}\n",
      "Set candidates of c and f to {'b', 'a'}\n",
      "Set candidates of c and f to {'a', 'g'}\n",
      "Set candidates of c and f to {'d', 'a'}\n",
      "Set candidates of c and f to {'d', 'f'}\n",
      "Set candidates of c and f to {'e', 'f'}\n",
      "Set candidates of c and f to {'c', 'd'}\n",
      "Set candidates of c and f to {'b', 'a'}\n",
      "Set candidates of c and f to {'a', 'g'}\n",
      "Set candidates of c and f to {'e', 'a'}\n",
      "Set candidates of c and f to {'c', 'd'}\n"
     ]
    },
    {
     "data": {
      "text/plain": [
       "983026"
      ]
     },
     "execution_count": 116,
     "metadata": {},
     "output_type": "execute_result"
    }
   ],
   "source": [
    "solve_2(signals)"
   ]
  },
  {
   "cell_type": "code",
   "execution_count": null,
   "metadata": {},
   "outputs": [],
   "source": []
  }
 ],
 "metadata": {
  "kernelspec": {
   "display_name": "Python 3",
   "language": "python",
   "name": "python3"
  },
  "language_info": {
   "codemirror_mode": {
    "name": "ipython",
    "version": 3
   },
   "file_extension": ".py",
   "mimetype": "text/x-python",
   "name": "python",
   "nbconvert_exporter": "python",
   "pygments_lexer": "ipython3",
   "version": "3.8.3"
  }
 },
 "nbformat": 4,
 "nbformat_minor": 4
}
